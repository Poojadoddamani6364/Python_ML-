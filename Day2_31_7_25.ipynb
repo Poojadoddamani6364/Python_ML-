{
  "cells": [
    {
      "cell_type": "markdown",
      "metadata": {
        "id": "JSb_RjjeWBY6"
      },
      "source": [
        "# ***Dictionary***"
      ]
    },
    {
      "cell_type": "code",
      "execution_count": null,
      "metadata": {
        "colab": {
          "background_save": true
        },
        "id": "nXIP_8_dV6T8",
        "outputId": "88fa280d-29cb-4807-e7d7-53ac01101bc9"
      },
      "outputs": [
        {
          "name": "stdout",
          "output_type": "stream",
          "text": [
            "{'name': 'Pooja', 'age': 21, 'job': 'software engineer', 'salary': 50000, 'skiils': ['python', 'java', 'c++']}\n",
            "Name:Pooja\n",
            "Age:21\n",
            "Keys:['name', 'age', 'job', 'salary', 'skiils']\n",
            "Values:['Pooja', 21, 'software engineer', 50000, ['python', 'java', 'c++']]\n",
            "Items:[('name', 'Pooja'), ('age', 21), ('job', 'software engineer'), ('salary', 50000), ('skiils', ['python', 'java', 'c++'])]\n"
          ]
        }
      ],
      "source": [
        "#Dictionary Creation\n",
        "person={\n",
        "    \"name\":\"Pooja\",\n",
        "    \"age\":21,\n",
        "    \"job\":\"software engineer\",\n",
        "    \"salary\":50000,\n",
        "    \"skiils\":[\"python\",\"java\",\"c++\"]\n",
        "}\n",
        "print(person)\n",
        "\n",
        "#Acessing Values\n",
        "print(f\"Name:{person['name']}\")\n",
        "print(f\"Age:{person.get('age','unknown')}\")\n",
        "\n",
        "#Dictionary Methods\n",
        "print(f\"Keys:{list(person.keys())}\")\n",
        "print(f\"Values:{list(person.values())}\")\n",
        "print(f\"Items:{list(person.items())}\")\n",
        "\n",
        "#Adding/updating\n",
        "person[\"location\"]=\"NewYork\"\n",
        "person[\"salary\"]=80000"
      ]
    },
    {
      "cell_type": "markdown",
      "metadata": {
        "id": "1_aroZ2bWMLC"
      },
      "source": [
        "# **Practical use case:Inventory Mangement**"
      ]
    },
    {
      "cell_type": "code",
      "execution_count": null,
      "metadata": {
        "colab": {
          "background_save": true
        },
        "id": "-z_pFk3zWR7Z",
        "outputId": "da3d103c-a5f9-4e66-f495-8659211439a1"
      },
      "outputs": [
        {
          "name": "stdout",
          "output_type": "stream",
          "text": [
            "Laptop price:999.99\n",
            "Total quantity:100\n"
          ]
        }
      ],
      "source": [
        "\n",
        "iventory={\n",
        "    \"laptops\":{\n",
        "        \"quantity\":50,\n",
        "        \"price\":999.99\n",
        "    },\n",
        "    \"phones\":{\n",
        "        \"quantity\":100,\n",
        "        \"price\":599.99\n",
        "    },\n",
        "    \"tablets\":{\n",
        "        \"quantity\":30,\n",
        "        \"price\":399.99\n",
        "    }\n",
        "\n",
        "}\n",
        "#Nested Acess\n",
        "print(f\"Laptop price:{iventory['laptops']['price']}\")\n",
        "print(f\"Total quantity:{iventory['phones']['quantity']}\")"
      ]
    },
    {
      "cell_type": "markdown",
      "metadata": {
        "id": "02H19n-DWV0h"
      },
      "source": [
        "# **Sets**"
      ]
    },
    {
      "cell_type": "markdown",
      "metadata": {
        "id": "m2NB59PoWbZS"
      },
      "source": [
        "- **set contain unique elements**"
      ]
    },
    {
      "cell_type": "code",
      "execution_count": null,
      "metadata": {
        "colab": {
          "background_save": true
        },
        "id": "IOv5i6JLWa3x",
        "outputId": "c0f9525e-a996-4e1f-98c4-242669b127c3"
      },
      "outputs": [
        {
          "name": "stdout",
          "output_type": "stream",
          "text": [
            "colors:{'green', 'blue', 'red'}\n"
          ]
        }
      ],
      "source": [
        "colors={\"red\",\"green\",\"blue\",\"red\"}\n",
        "print(f\"colors:{colors}\")"
      ]
    },
    {
      "cell_type": "markdown",
      "metadata": {
        "id": "b89LyvmPWjVh"
      },
      "source": [
        "- **set operation**"
      ]
    },
    {
      "cell_type": "code",
      "execution_count": null,
      "metadata": {
        "colab": {
          "background_save": true
        },
        "id": "GDSjG9zcWng5",
        "outputId": "6707b961-1d01-4b0a-8e66-32f3d73b2372"
      },
      "outputs": [
        {
          "name": "stdout",
          "output_type": "stream",
          "text": [
            "Union:{'sql', 'c', 'java', 'python', 'c++'}\n",
            "Intersection:{'c', 'java'}\n",
            "Difference:{'python'}\n"
          ]
        }
      ],
      "source": [
        "team1_skills={'python','java','c'}\n",
        "team2_skills={'c++','java','c','sql'}\n",
        "print(f\"Union:{team1_skills.union(team2_skills)}\")\n",
        "print(f\"Intersection:{team1_skills.intersection(team2_skills)}\")\n",
        "print(f\"Difference:{team1_skills.difference(team2_skills)}\")"
      ]
    },
    {
      "cell_type": "markdown",
      "metadata": {
        "id": "7UdSp7VvWvKR"
      },
      "source": [
        "- **Adding to set**"
      ]
    },
    {
      "cell_type": "code",
      "execution_count": null,
      "metadata": {
        "colab": {
          "background_save": true
        },
        "id": "D3X8zOp-WqKx",
        "outputId": "64ab6bc4-7448-426b-b651-04cf99b696bf"
      },
      "outputs": [
        {
          "name": "stdout",
          "output_type": "stream",
          "text": [
            "updated colors:{'red', 'purple', 'blue', 'orange', 'green', 'yellow'}\n"
          ]
        }
      ],
      "source": [
        "colors.add(\"yellow\")\n",
        "colors.update([\"purple\",\"orange\"])\n",
        "print(f\"updated colors:{colors}\")"
      ]
    },
    {
      "cell_type": "markdown",
      "metadata": {
        "id": "yLJRGF6_W0FJ"
      },
      "source": [
        "# **Control Flow**"
      ]
    },
    {
      "cell_type": "markdown",
      "metadata": {
        "id": "2A-sdnMsW-5g"
      },
      "source": [
        "**Conditional Statements**"
      ]
    },
    {
      "cell_type": "markdown",
      "metadata": {
        "id": "VhAjS2L4XAih"
      },
      "source": [
        "- **Basic if-else**"
      ]
    },
    {
      "cell_type": "code",
      "execution_count": null,
      "metadata": {
        "colab": {
          "background_save": true
        },
        "id": "oMeQ72ksW7fa"
      },
      "outputs": [],
      "source": [
        "def get_grade_letter(score):\n",
        "  if score>=90:\n",
        "    return \"A\"\n",
        "  elif score>=80:\n",
        "    return \"B\"\n",
        "  elif score>=70:\n",
        "    return \"C\"\n",
        "  elif score>=60:\n",
        "    return \"D\"\n",
        "  else:\n",
        "    return \"F\""
      ]
    },
    {
      "cell_type": "markdown",
      "metadata": {
        "id": "zOWmew06XHGs"
      },
      "source": [
        "- **Test the function**"
      ]
    },
    {
      "cell_type": "code",
      "execution_count": null,
      "metadata": {
        "colab": {
          "background_save": true
        },
        "id": "3tfwz--EXKzq",
        "outputId": "99559802-1ea6-470c-c8ca-e9d3a1c24815"
      },
      "outputs": [
        {
          "name": "stdout",
          "output_type": "stream",
          "text": [
            "score:95 grade:A\n",
            "score:83 grade:B\n",
            "score:72 grade:C\n",
            "score:65 grade:D\n",
            "score:58 grade:F\n"
          ]
        }
      ],
      "source": [
        "test_score=[95,83,72,65,58]\n",
        "for score in test_score:\n",
        "  grade=get_grade_letter(score)\n",
        "  print(f\"score:{score} grade:{grade}\")"
      ]
    },
    {
      "cell_type": "markdown",
      "metadata": {
        "id": "BPnhB9wSXPEJ"
      },
      "source": [
        "- **Nested Condition**"
      ]
    },
    {
      "cell_type": "code",
      "execution_count": null,
      "metadata": {
        "colab": {
          "background_save": true
        },
        "id": "cPlA_OUkXe3I"
      },
      "outputs": [],
      "source": [
        "def get_shipping_const(weight,distance):\n",
        "  base_cost=5.0\n",
        "\n",
        "  if weight<=1:\n",
        "    weight_cost=2.0\n",
        "  elif weight<=5:\n",
        "    weight_cost=5.0\n",
        "  else:\n",
        "    weight_cost=10.0\n",
        "\n",
        "  if distance<=100:\n",
        "    distance_cost=1.0\n",
        "  elif distance<=500:\n",
        "    distance_cost=3.0\n",
        "  else:\n",
        "    distance_cost=7.0\n",
        "  return base_cost+weight_cost+distance_cost"
      ]
    },
    {
      "cell_type": "markdown",
      "metadata": {
        "id": "R_7khU-uXndB"
      },
      "source": [
        "- **Test shipping cost**"
      ]
    },
    {
      "cell_type": "code",
      "execution_count": null,
      "metadata": {
        "colab": {
          "background_save": true
        },
        "id": "JEh6PW_3Xuvw",
        "outputId": "74066509-a898-496a-f83f-95201cec50e6"
      },
      "outputs": [
        {
          "name": "stdout",
          "output_type": "stream",
          "text": [
            "Light,close:$8.0\n",
            "Heavy,far:$22.0\n"
          ]
        }
      ],
      "source": [
        "print(f\"Light,close:${get_shipping_const(0.5,50)}\")\n",
        "print(f\"Heavy,far:${get_shipping_const(10,800)}\")"
      ]
    },
    {
      "cell_type": "markdown",
      "metadata": {
        "id": "3B6l7J8MXxkp"
      },
      "source": [
        "# **Loops-For Loop**"
      ]
    },
    {
      "cell_type": "markdown",
      "metadata": {
        "id": "nyFIilVTX7C6"
      },
      "source": [
        "- **Basic for loop**"
      ]
    },
    {
      "cell_type": "code",
      "execution_count": null,
      "metadata": {
        "colab": {
          "background_save": true
        },
        "id": "A9xDpzKVX2Zg",
        "outputId": "d9f2e0d6-8e88-4311-ac3a-edbf009e2b4c"
      },
      "outputs": [
        {
          "name": "stdout",
          "output_type": "stream",
          "text": [
            "I like apple\n",
            "I like banana\n",
            "I like orange\n",
            "I like grape\n"
          ]
        }
      ],
      "source": [
        "fruits=[\"apple\",\"banana\",\"orange\",\"grape\"]\n",
        "for fruit in fruits:\n",
        "  print(\"I like\",fruit)"
      ]
    },
    {
      "cell_type": "markdown",
      "metadata": {
        "id": "Q-ecgiIHYAFx"
      },
      "source": [
        "- **Loop with Enumerate(get index)**"
      ]
    },
    {
      "cell_type": "code",
      "execution_count": null,
      "metadata": {
        "colab": {
          "background_save": true
        },
        "id": "qrBbKJfIYFNa",
        "outputId": "39f3ebd5-144f-4578-f335-b582f8c4a4be"
      },
      "outputs": [
        {
          "name": "stdout",
          "output_type": "stream",
          "text": [
            "1.apple\n",
            "2.banana\n",
            "3.orange\n",
            "4.grape\n"
          ]
        }
      ],
      "source": [
        "for i,fruit in enumerate(fruits):\n",
        "  print(f\"{i+1}.{fruit}\")"
      ]
    },
    {
      "cell_type": "markdown",
      "metadata": {
        "id": "hY0FpEhzYI6h"
      },
      "source": [
        "- **Loop with range**"
      ]
    },
    {
      "cell_type": "code",
      "execution_count": null,
      "metadata": {
        "colab": {
          "background_save": true
        },
        "id": "j6bA6VIjYM_h",
        "outputId": "73067315-fbfa-439a-cd70-f08ab52a8914"
      },
      "outputs": [
        {
          "name": "stdout",
          "output_type": "stream",
          "text": [
            "Day 1 of the week\n",
            "Day 2 of the week\n",
            "Day 3 of the week\n",
            "Day 4 of the week\n",
            "Day 5 of the week\n",
            "Day 6 of the week\n",
            "Day 7 of the week\n"
          ]
        }
      ],
      "source": [
        "for day in range(1,8):\n",
        "  print(f\"Day {day} of the week\")"
      ]
    },
    {
      "cell_type": "markdown",
      "metadata": {
        "id": "GLcvkTp7YPWJ"
      },
      "source": [
        "- **Nested Loops-creating a multiplication table**"
      ]
    },
    {
      "cell_type": "code",
      "execution_count": null,
      "metadata": {
        "colab": {
          "background_save": true
        },
        "id": "Vv7YZAPvYUg4",
        "outputId": "21e3c16b-4d1b-4cce-b5ef-f468e3b61cbc"
      },
      "outputs": [
        {
          "name": "stdout",
          "output_type": "stream",
          "text": [
            "Multiplication Table:\n",
            "1 X 1 = 1\n",
            "1 X 2 = 2\n",
            "1 X 3 = 3\n",
            "1 X 4 = 4\n",
            "1 X 5 = 5\n",
            "2 X 1 = 2\n",
            "2 X 2 = 4\n",
            "2 X 3 = 6\n",
            "2 X 4 = 8\n",
            "2 X 5 = 10\n",
            "3 X 1 = 3\n",
            "3 X 2 = 6\n",
            "3 X 3 = 9\n",
            "3 X 4 = 12\n",
            "3 X 5 = 15\n",
            "4 X 1 = 4\n",
            "4 X 2 = 8\n",
            "4 X 3 = 12\n",
            "4 X 4 = 16\n",
            "4 X 5 = 20\n",
            "5 X 1 = 5\n",
            "5 X 2 = 10\n",
            "5 X 3 = 15\n",
            "5 X 4 = 20\n",
            "5 X 5 = 25\n"
          ]
        }
      ],
      "source": [
        "print(\"Multiplication Table:\")\n",
        "for i in range(1,6):\n",
        "  for j in range(1,6):\n",
        "    product = i * j\n",
        "    print(i,\"X\",j,\"=\",product)"
      ]
    },
    {
      "cell_type": "markdown",
      "metadata": {
        "id": "JWjk3jqGYXiB"
      },
      "source": [
        "- **Processing data with loops**"
      ]
    },
    {
      "cell_type": "code",
      "execution_count": null,
      "metadata": {
        "colab": {
          "background_save": true
        },
        "id": "JW2YFhU1YdWh",
        "outputId": "b4d315cf-70f1-4e34-f65a-3b18699a0e8f"
      },
      "outputs": [
        {
          "name": "stdout",
          "output_type": "stream",
          "text": [
            "laptop:$4995\n",
            "phone:$5990\n",
            "tablet:$3192\n",
            "Total Revenue:$14177\n"
          ]
        }
      ],
      "source": [
        "sales_data=[\n",
        "    {\"product\":\"laptop\",\"price\":999,\"quantity\":5},\n",
        "    {\"product\":\"phone\",\"price\":599,\"quantity\":10},\n",
        "    {\"product\":\"tablet\",\"price\":399,\"quantity\":8}\n",
        "]\n",
        "total_revenue=0\n",
        "\n",
        "for item in sales_data:\n",
        "  revenue=item[\"price\"]*item[\"quantity\"]\n",
        "  total_revenue+=revenue\n",
        "  print(f\"{item['product']}:${revenue}\")\n",
        "print(f\"Total Revenue:${total_revenue}\")"
      ]
    },
    {
      "cell_type": "markdown",
      "metadata": {
        "id": "f3JKtgTWYgux"
      },
      "source": [
        "- **Loop-WhileLoop**"
      ]
    },
    {
      "cell_type": "markdown",
      "metadata": {
        "id": "VawkrebMYmQJ"
      },
      "source": [
        "**While loop for user input simulation**"
      ]
    },
    {
      "cell_type": "code",
      "execution_count": null,
      "metadata": {
        "colab": {
          "background_save": true
        },
        "id": "buCfiShyYkJJ",
        "outputId": "1aadb455-6b67-4f3d-e4c5-87f66f483f1d"
      },
      "outputs": [
        {
          "name": "stdout",
          "output_type": "stream",
          "text": [
            "Guess the number between 1 and 10\n",
            "Guess 1:10-Too high!\n",
            "Guess 2:8-Too high!\n",
            "Guess 3:3-Too low!\n",
            "Guess 4:8-Too high!\n",
            "Guess 5:4-Too low!\n",
            "Guess 6:5-Too low!\n",
            "Guess 7:5-Too low!\n",
            "Guess 8:3-Too low!\n",
            "Guess 9:1-Too low!\n",
            "Guess 10:2-Too low!\n",
            "Guess 11:7-Correct!\n",
            "Max attempts reached!\n",
            "Game finished in 11 attempt\n"
          ]
        }
      ],
      "source": [
        "def simple_guessing_game():\n",
        "  target=7\n",
        "  guess=0\n",
        "  attempt=0\n",
        "  print(\"Guess the number between 1 and 10\")\n",
        "\n",
        "  while guess!=target:\n",
        "    #stimulate user input\n",
        "    import random\n",
        "    guess=random.randint(1,10)\n",
        "    attempt+=1\n",
        "\n",
        "    if guess < target:\n",
        "      print(f\"Guess {attempt}:{guess}-Too low!\")\n",
        "    elif guess > target:\n",
        "      print(f\"Guess {attempt}:{guess}-Too high!\")\n",
        "    else:\n",
        "      print(f\"Guess {attempt}:{guess}-Correct!\")\n",
        "\n",
        "    #Safety check\n",
        "    if attempt > 10:\n",
        "      print(\"Max attempts reached!\")\n",
        "      break\n",
        "  print(f\"Game finished in {attempt} attempt\")\n",
        "\n",
        "simple_guessing_game()"
      ]
    },
    {
      "cell_type": "markdown",
      "metadata": {
        "id": "Uw83G1kaYsjq"
      },
      "source": [
        "- **while loop for processing**"
      ]
    },
    {
      "cell_type": "code",
      "execution_count": null,
      "metadata": {
        "colab": {
          "background_save": true
        },
        "id": "cnWaGyqEYw-o",
        "outputId": "0c202af4-c52c-4559-a67b-90d6beb8767e"
      },
      "outputs": [
        {
          "name": "stdout",
          "output_type": "stream",
          "text": [
            "Processing:Task 1\n",
            "Remaining tasks:3\n",
            "Processing:Task 2\n",
            "Remaining tasks:2\n",
            "Processing:Task 3\n",
            "Remaining tasks:1\n",
            "Processing:Task 4\n",
            "Remaining tasks:0\n",
            "All tasks completed!\n"
          ]
        }
      ],
      "source": [
        "def process_queue():\n",
        "  queue=[\"Task 1\",\"Task 2\",\"Task 3\",\"Task 4\"]\n",
        "\n",
        "  while queue:\n",
        "    current_task=queue.pop(0)\n",
        "    print(f\"Processing:{current_task}\")\n",
        "    print(f\"Remaining tasks:{len(queue)}\")\n",
        "  print(\"All tasks completed!\")\n",
        "process_queue()"
      ]
    },
    {
      "cell_type": "markdown",
      "metadata": {
        "id": "_fr4rhnmY1xA"
      },
      "source": [
        "# **Functions Basic**"
      ]
    },
    {
      "cell_type": "markdown",
      "metadata": {
        "id": "M40FsK6kY9Jp"
      },
      "source": [
        "- **Basic Function Definition**"
      ]
    },
    {
      "cell_type": "code",
      "execution_count": null,
      "metadata": {
        "colab": {
          "background_save": true
        },
        "id": "gKQRcmvQZClB"
      },
      "outputs": [],
      "source": [
        "def greet(name):\n",
        "  return f\"Hello,{name}\""
      ]
    },
    {
      "cell_type": "markdown",
      "metadata": {
        "id": "ZHv7ze-6ZIOo"
      },
      "source": [
        "- **Function call**"
      ]
    },
    {
      "cell_type": "code",
      "execution_count": null,
      "metadata": {
        "colab": {
          "background_save": true
        },
        "id": "Yx7JRK-kZLd4",
        "outputId": "a9c681c6-9b33-4d21-ba63-b5d6ca36a05a"
      },
      "outputs": [
        {
          "name": "stdout",
          "output_type": "stream",
          "text": [
            "Hello,Python programmer\n"
          ]
        }
      ],
      "source": [
        "message=greet(\"Python programmer\")\n",
        "print(message)"
      ]
    },
    {
      "cell_type": "markdown",
      "metadata": {
        "id": "8LD-mVLmZNn4"
      },
      "source": [
        "- **Function with multiple parameter**"
      ]
    },
    {
      "cell_type": "code",
      "execution_count": null,
      "metadata": {
        "colab": {
          "background_save": true
        },
        "id": "VJ7a_XaZZTCb"
      },
      "outputs": [],
      "source": [
        "def calculate_area(length,width):\n",
        "  area=length*width\n",
        "  return area"
      ]
    },
    {
      "cell_type": "markdown",
      "metadata": {
        "id": "5B9aZ62qZVjo"
      },
      "source": [
        " - **Test the function**"
      ]
    },
    {
      "cell_type": "code",
      "execution_count": null,
      "metadata": {
        "colab": {
          "background_save": true
        },
        "id": "JMljoirsZZzI",
        "outputId": "f35ff4b4-5bec-4cb5-ff9a-e9bdda09657b"
      },
      "outputs": [
        {
          "name": "stdout",
          "output_type": "stream",
          "text": [
            "Room area:50 square feet\n"
          ]
        }
      ],
      "source": [
        "room_area=calculate_area(10,5)\n",
        "print(f\"Room area:{room_area} square feet\")"
      ]
    },
    {
      "cell_type": "markdown",
      "metadata": {
        "id": "fStAZHBLZcTJ"
      },
      "source": [
        "- **Function with default parameter**"
      ]
    },
    {
      "cell_type": "code",
      "execution_count": null,
      "metadata": {
        "colab": {
          "background_save": true
        },
        "id": "6q78DNgLZgio"
      },
      "outputs": [],
      "source": [
        "def create_user_profile(name,age=18,location=\"unknown\",active=True):\n",
        "  return{\n",
        "      \"name\":name,\n",
        "      \"age\":age,\n",
        "      \"location\":location,\n",
        "      \"active\":active\n",
        "  }"
      ]
    },
    {
      "cell_type": "markdown",
      "metadata": {
        "id": "b9ISfQlOZkRy"
      },
      "source": [
        " - **Different ways to call**"
      ]
    },
    {
      "cell_type": "code",
      "execution_count": null,
      "metadata": {
        "colab": {
          "background_save": true
        },
        "id": "BXsQLGAOZoMB",
        "outputId": "b0aeccb6-0314-41f2-8dc1-0aaad31b34f7"
      },
      "outputs": [
        {
          "name": "stdout",
          "output_type": "stream",
          "text": [
            "Profile1:{'name': 'Alice', 'age': 18, 'location': 'unknown', 'active': True}\n",
            "Profile2:{'name': 'Bob', 'age': 25, 'location': 'unknown', 'active': True}\n",
            "Profile3:{'name': 'Charli', 'age': 30, 'location': 'New york', 'active': True}\n"
          ]
        }
      ],
      "source": [
        "profile1=create_user_profile(\"Alice\")\n",
        "profile2=create_user_profile(\"Bob\",25)\n",
        "profile3=create_user_profile(\"Charli\",location=\"New york\",age=30)\n",
        "print(f\"Profile1:{profile1}\")\n",
        "print(f\"Profile2:{profile2}\")\n",
        "print(f\"Profile3:{profile3}\")"
      ]
    },
    {
      "cell_type": "markdown",
      "metadata": {
        "id": "ApbDx8vkZqvh"
      },
      "source": [
        "# **Advanced Function Concepts**"
      ]
    },
    {
      "cell_type": "markdown",
      "metadata": {
        "id": "hiLAo0xfZuSR"
      },
      "source": [
        "- **Function returning multiple values**"
      ]
    },
    {
      "cell_type": "code",
      "execution_count": null,
      "metadata": {
        "colab": {
          "background_save": true
        },
        "id": "hBzMMl6vZ0_o"
      },
      "outputs": [],
      "source": [
        "def analyze_text(text):\n",
        "  words = text.split()\n",
        "  word_count=len(words)\n",
        "  char_count=len(text)\n",
        "  char_count_no_space=len(text.replace(\" \",\" \"))\n",
        "\n",
        "  return word_count,char_count,char_count_no_space"
      ]
    },
    {
      "cell_type": "markdown",
      "metadata": {
        "id": "4ePt95ZrZ3ni"
      },
      "source": [
        "- **Test with sample text**"
      ]
    },
    {
      "cell_type": "code",
      "execution_count": null,
      "metadata": {
        "colab": {
          "background_save": true
        },
        "id": "8ZK1UpSnZ7e6",
        "outputId": "a28ee15d-51f9-4eaa-b17b-0ffa47301b2d"
      },
      "outputs": [
        {
          "name": "stdout",
          "output_type": "stream",
          "text": [
            "Text:'Python is powerful programming language'\n",
            "Words count:5\n",
            "Characters:39\n",
            "Characters(no space):39\n"
          ]
        }
      ],
      "source": [
        "sample_text=\"Python is powerful programming language\"\n",
        "\n",
        "words,chars,chars_no_space=analyze_text(sample_text)\n",
        "\n",
        "print(f\"Text:'{sample_text}'\")\n",
        "print(f\"Words count:{words}\")\n",
        "print(f\"Characters:{chars}\")\n",
        "print(f\"Characters(no space):{chars_no_space}\")"
      ]
    },
    {
      "cell_type": "markdown",
      "metadata": {
        "id": "2g01EgzhZ-NK"
      },
      "source": [
        "- **Variable length argument**"
      ]
    },
    {
      "cell_type": "code",
      "execution_count": null,
      "metadata": {
        "colab": {
          "background_save": true
        },
        "id": "srlj8XYnaD9Q"
      },
      "outputs": [],
      "source": [
        "def calculate_average(*numbers):\n",
        "  if not numbers:\n",
        "    return 0\n",
        "\n",
        "  return sum(numbers)/len(numbers)"
      ]
    },
    {
      "cell_type": "markdown",
      "metadata": {
        "id": "-1-MFYHraKrR"
      },
      "source": [
        "- **Test with different numbers of arguments**"
      ]
    },
    {
      "cell_type": "code",
      "execution_count": null,
      "metadata": {
        "colab": {
          "background_save": true
        },
        "id": "RLT79FfdaO55",
        "outputId": "23a0cb37-9481-4dd3-bd7a-4929ffa59a07"
      },
      "outputs": [
        {
          "name": "stdout",
          "output_type": "stream",
          "text": [
            "Average of 10,20,30,40:25.0\n",
            "Average of 1,2,3,5:2.75\n",
            "Average of 100:100.0\n"
          ]
        }
      ],
      "source": [
        "avg1=calculate_average(10,20,30,40)\n",
        "avg2=calculate_average(1,2,3,5)\n",
        "avg3=calculate_average(100)\n",
        "\n",
        "print(f\"Average of 10,20,30,40:{avg1}\")\n",
        "print(f\"Average of 1,2,3,5:{avg2}\")\n",
        "print(f\"Average of 100:{avg3}\")"
      ]
    },
    {
      "cell_type": "markdown",
      "metadata": {
        "id": "YVDV1z4kaSBR"
      },
      "source": [
        "- **keyword Argument**"
      ]
    },
    {
      "cell_type": "code",
      "execution_count": null,
      "metadata": {
        "colab": {
          "background_save": true
        },
        "id": "B9EekfZqaV-R",
        "outputId": "5a9d11bf-ff9d-436c-80d5-72118cd95d34"
      },
      "outputs": [
        {
          "name": "stdout",
          "output_type": "stream",
          "text": [
            "=== REPORT ===\n",
            "Title:Monthly sales report\n",
            "Date:2024-01-01\n",
            "Totalsales:15000\n",
            "Newcustomers:25\n",
            "Returningcustomers:150\n",
            "===========\n"
          ]
        }
      ],
      "source": [
        "def create_report(**data):\n",
        "  print(\"=== REPORT ===\")\n",
        "\n",
        "  for key,value in data.items():\n",
        "   print(f\"{key.replace('_','').title()}:{value}\")\n",
        "\n",
        "  print(\"===========\")\n",
        "\n",
        "create_report(\n",
        "    title=\"Monthly sales report\",\n",
        "    date=\"2024-01-01\",\n",
        "    total_sales=15000,\n",
        "    new_customers=25,\n",
        "    returning_customers=150\n",
        ")"
      ]
    },
    {
      "cell_type": "markdown",
      "metadata": {
        "id": "yWwdk1ZOaZ7A"
      },
      "source": [
        "# **Lambda Functions**"
      ]
    },
    {
      "cell_type": "markdown",
      "metadata": {
        "id": "iD5TJBcmanf5"
      },
      "source": [
        "- **Lambda Functions(anonymous functions)**"
      ]
    },
    {
      "cell_type": "markdown",
      "metadata": {
        "id": "ARwKbBnEarep"
      },
      "source": [
        "- Regular Functions"
      ]
    },
    {
      "cell_type": "code",
      "execution_count": null,
      "metadata": {
        "colab": {
          "background_save": true
        },
        "id": "IyEaupogattx"
      },
      "outputs": [],
      "source": [
        "def squares(x):\n",
        "  return x**2"
      ]
    },
    {
      "cell_type": "markdown",
      "metadata": {
        "id": "5aDDqLPdav65"
      },
      "source": [
        "- Lambda Equivalent"
      ]
    },
    {
      "cell_type": "code",
      "execution_count": null,
      "metadata": {
        "colab": {
          "background_save": true
        },
        "id": "Xf3e2-7Qaych",
        "outputId": "b11bd408-b672-45ee-98e1-052212fbe591"
      },
      "outputs": [
        {
          "name": "stdout",
          "output_type": "stream",
          "text": [
            "Regular Function:25\n",
            "Lambda Function:25\n"
          ]
        }
      ],
      "source": [
        "square_lambda=lambda x:x**2\n",
        "print(f\"Regular Function:{squares(5)}\")\n",
        "print(f\"Lambda Function:{square_lambda(5)}\")"
      ]
    },
    {
      "cell_type": "markdown",
      "metadata": {
        "id": "kIGW6OT6a1Dx"
      },
      "source": [
        "- **Lambda with multiple arguments**"
      ]
    },
    {
      "cell_type": "code",
      "execution_count": null,
      "metadata": {
        "colab": {
          "background_save": true
        },
        "id": "eE2bG2rDa4-5",
        "outputId": "0dfb90dd-68b0-45ce-cccd-e107cdeec6a0"
      },
      "outputs": [
        {
          "name": "stdout",
          "output_type": "stream",
          "text": [
            "Multiply:12\n"
          ]
        }
      ],
      "source": [
        "multiply=lambda x,y:x*y\n",
        "print(f\"Multiply:{multiply(3,4)}\")"
      ]
    },
    {
      "cell_type": "markdown",
      "metadata": {
        "id": "auv4pmnSa74T"
      },
      "source": [
        "- **Lambda with built in function**"
      ]
    },
    {
      "cell_type": "code",
      "execution_count": null,
      "metadata": {
        "colab": {
          "background_save": true
        },
        "id": "psAaAWsDa_EA",
        "outputId": "f0a8050f-5dc0-4b63-f9ed-b95b7829c4e9"
      },
      "outputs": [
        {
          "name": "stdout",
          "output_type": "stream",
          "text": [
            "Squared Numbers:[1, 4, 9, 16, 25]\n"
          ]
        }
      ],
      "source": [
        "numbers = [1,2,3,4,5]\n",
        "squared=list(map(lambda x:x**2,numbers))\n",
        "print(f\"Squared Numbers:{squared}\")"
      ]
    },
    {
      "cell_type": "markdown",
      "metadata": {
        "id": "-KZCOv9XbBoZ"
      },
      "source": [
        "- **Filtering with Lambda**"
      ]
    },
    {
      "cell_type": "code",
      "execution_count": null,
      "metadata": {
        "colab": {
          "background_save": true
        },
        "id": "eQJFsc4qbGO4",
        "outputId": "9eb253e0-fa20-4d6e-9642-13bd46cf6912"
      },
      "outputs": [
        {
          "name": "stdout",
          "output_type": "stream",
          "text": [
            "Adult Ages:[18, 23, 19, 67]\n"
          ]
        }
      ],
      "source": [
        "ages=[16,18,23,16,19,67,10]\n",
        "adults=list(filter(lambda x:x>=18,ages))\n",
        "print(f\"Adult Ages:{adults}\")"
      ]
    },
    {
      "cell_type": "markdown",
      "metadata": {
        "id": "vBLljNTXbI9B"
      },
      "source": [
        "- **Sorting with lambda**"
      ]
    },
    {
      "cell_type": "code",
      "execution_count": null,
      "metadata": {
        "colab": {
          "background_save": true
        },
        "id": "eQaJu-8KbMQg",
        "outputId": "87f8030b-08fc-4ec1-8691-2e375373bf6b"
      },
      "outputs": [
        {
          "name": "stdout",
          "output_type": "stream",
          "text": [
            "People sorted by age:\n",
            "Bob:25\n",
            "Alice:30\n",
            "Charlie:35\n"
          ]
        }
      ],
      "source": [
        "people=[\n",
        "    {\"name\":\"Alice\",\"age\":30},\n",
        "    {\"name\":\"Bob\",\"age\":25},\n",
        "    {\"name\":\"Charlie\",\"age\":35}\n",
        "]\n",
        "sorted_people=sorted(\n",
        "    people,\n",
        "    key=lambda person:person[\"age\"]\n",
        ")\n",
        "print(f\"People sorted by age:\")\n",
        "\n",
        "for person in sorted_people:\n",
        "  print(f\"{person['name']}:{person['age']}\")\n"
      ]
    }
  ],
  "metadata": {
    "colab": {
      "provenance": []
    },
    "kernelspec": {
      "display_name": "Python 3",
      "name": "python3"
    },
    "language_info": {
      "name": "python"
    }
  },
  "nbformat": 4,
  "nbformat_minor": 0
}