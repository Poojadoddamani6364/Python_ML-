{
  "nbformat": 4,
  "nbformat_minor": 0,
  "metadata": {
    "colab": {
      "provenance": []
    },
    "kernelspec": {
      "name": "python3",
      "display_name": "Python 3"
    },
    "language_info": {
      "name": "python"
    }
  },
  "cells": [
    {
      "cell_type": "markdown",
      "source": [
        "# ***variables and data types***"
      ],
      "metadata": {
        "id": "CRb-O7o8K5fd"
      }
    },
    {
      "cell_type": "code",
      "source": [
        "first_name=\"pooja\"\n",
        "last_name=\"Doddamani\"\n",
        "age=21\n",
        "print(f\"my name is:{first_name} {last_name} and Age is:{age}\")"
      ],
      "metadata": {
        "colab": {
          "base_uri": "https://localhost:8080/"
        },
        "id": "f7zEyQ10KzBd",
        "outputId": "24161296-ea7b-4cfe-9d28-9e8a31e7558f"
      },
      "execution_count": null,
      "outputs": [
        {
          "output_type": "stream",
          "name": "stdout",
          "text": [
            "my name is:pooja Doddamani and Age is:21\n"
          ]
        }
      ]
    },
    {
      "cell_type": "markdown",
      "source": [
        "# ***Numeric Type***"
      ],
      "metadata": {
        "id": "dq4wjwQxLt29"
      }
    },
    {
      "cell_type": "code",
      "source": [
        "a=10\n",
        "if a>0:\n",
        "  print(\"a is positive\")\n",
        "  print(\"This is inside if block\")"
      ],
      "metadata": {
        "colab": {
          "base_uri": "https://localhost:8080/"
        },
        "id": "hAMraoqELdkW",
        "outputId": "8418f92b-9dfd-4e66-c014-de6908fc1ab4"
      },
      "execution_count": null,
      "outputs": [
        {
          "output_type": "stream",
          "name": "stdout",
          "text": [
            "a is positive\n",
            "This is inside if block\n"
          ]
        }
      ]
    },
    {
      "cell_type": "markdown",
      "source": [
        "# ***string***"
      ],
      "metadata": {
        "id": "XjFs-cNvM62v"
      }
    },
    {
      "cell_type": "code",
      "source": [
        "a='pooja'\n",
        "b=\"Hello World\"\n",
        "c=\"\"\" my self pooja\"\"\"\n",
        "d=\"\"\"from Haveri\"\"\"\n",
        "print(a, b , c ,d)"
      ],
      "metadata": {
        "colab": {
          "base_uri": "https://localhost:8080/"
        },
        "id": "7zy5WwZYMFjW",
        "outputId": "42ed8f80-85a9-40ed-a80a-6feeced4b3fd"
      },
      "execution_count": null,
      "outputs": [
        {
          "output_type": "stream",
          "name": "stdout",
          "text": [
            "pooja Hello World  my self pooja from Haveri\n"
          ]
        }
      ]
    },
    {
      "cell_type": "markdown",
      "source": [
        "# ***Boolean type***"
      ],
      "metadata": {
        "id": "St13yy9KNkUB"
      }
    },
    {
      "cell_type": "code",
      "source": [
        "is_active=True\n",
        "is_finished=False\n",
        "print(is_active,is_finished)"
      ],
      "metadata": {
        "colab": {
          "base_uri": "https://localhost:8080/"
        },
        "id": "F7QgGqOmNQjg",
        "outputId": "307578c9-efce-428c-9a4d-fa0630c2023d"
      },
      "execution_count": null,
      "outputs": [
        {
          "output_type": "stream",
          "name": "stdout",
          "text": [
            "True False\n"
          ]
        }
      ]
    },
    {
      "cell_type": "markdown",
      "source": [
        "# ***Type checking***"
      ],
      "metadata": {
        "id": "oNHmnp5WOQBh"
      }
    },
    {
      "cell_type": "code",
      "source": [
        "print(type(first_name))\n",
        "print(type(age))\n",
        "print(type(is_active))\n",
        "print(type(is_finished))"
      ],
      "metadata": {
        "colab": {
          "base_uri": "https://localhost:8080/"
        },
        "id": "G2Co9rx1NvUB",
        "outputId": "bd572b5b-2cc2-45ce-82de-bf70b4b49142"
      },
      "execution_count": null,
      "outputs": [
        {
          "output_type": "stream",
          "name": "stdout",
          "text": [
            "<class 'str'>\n",
            "<class 'int'>\n",
            "<class 'bool'>\n",
            "<class 'bool'>\n"
          ]
        }
      ]
    },
    {
      "cell_type": "markdown",
      "source": [
        "# ***Type Conversion***"
      ],
      "metadata": {
        "id": "oTDFSohUPgaT"
      }
    },
    {
      "cell_type": "code",
      "source": [
        "str_num=\"123\"\n",
        "int_num=int(str_num)\n",
        "float_num=float(str_num)\n",
        "print(f\"original:{str_num} (type:{type(str_num)})\")\n",
        "print(f\"original:{int_num} (type:{type(int_num)})\")\n",
        "print(f\"original:{float_num} (type:{type(float_num)})\")"
      ],
      "metadata": {
        "colab": {
          "base_uri": "https://localhost:8080/"
        },
        "id": "XEvjXozgOkQS",
        "outputId": "46cb885a-e255-400a-bbd2-19a7ba81928e"
      },
      "execution_count": null,
      "outputs": [
        {
          "output_type": "stream",
          "name": "stdout",
          "text": [
            "original:123 (type:<class 'str'>)\n",
            "original:123 (type:<class 'int'>)\n",
            "original:123.0 (type:<class 'float'>)\n"
          ]
        }
      ]
    },
    {
      "cell_type": "markdown",
      "source": [
        "# ***Personal Information***"
      ],
      "metadata": {
        "id": "qfa4Q4pajHac"
      }
    },
    {
      "cell_type": "code",
      "source": [
        "name=\"Pooja M Doddamani\"\n",
        "age=21\n",
        "place=\"Haveri\"\n",
        "sem=5\n",
        "is_student=True\n",
        "print(f\"Name:{name}\")\n",
        "print(f\"Age:{age}\")\n",
        "print(f\"Place:{place}\")\n",
        "print(f\"Sem:{sem}\")\n",
        "print(f\"is_student:{is_student}\")"
      ],
      "metadata": {
        "colab": {
          "base_uri": "https://localhost:8080/"
        },
        "id": "y0No3Aeeh_v7",
        "outputId": "0c7e461f-05a6-419f-ef59-5bf7c835e7e0"
      },
      "execution_count": null,
      "outputs": [
        {
          "output_type": "stream",
          "name": "stdout",
          "text": [
            "Name:Pooja M Doddamani\n",
            "Age:21\n",
            "Place:Haveri\n",
            "Sem:5\n",
            "is_student:True\n"
          ]
        }
      ]
    },
    {
      "cell_type": "markdown",
      "source": [
        "# ***Type conversion***"
      ],
      "metadata": {
        "id": "L1cAIcVplghb"
      }
    },
    {
      "cell_type": "code",
      "source": [
        "age_str=str(age)\n",
        "sem_int=int(sem)\n",
        "print(f\"Age as a string:{age_str}\")\n",
        "print(f\"sem as integer:{sem_int}\")"
      ],
      "metadata": {
        "colab": {
          "base_uri": "https://localhost:8080/"
        },
        "id": "rIYo1VBVkWSb",
        "outputId": "0f2014e3-5d8c-40dd-f904-1121d41fdf78"
      },
      "execution_count": null,
      "outputs": [
        {
          "output_type": "stream",
          "name": "stdout",
          "text": [
            "Age as a string:21\n",
            "sem as integer:5\n"
          ]
        }
      ]
    },
    {
      "cell_type": "code",
      "source": [],
      "metadata": {
        "id": "bU3lT2j7maDU"
      },
      "execution_count": null,
      "outputs": []
    },
    {
      "cell_type": "markdown",
      "source": [
        "# ***Operator and Basic Operation***\n",
        "##Arithematic operator\n"
      ],
      "metadata": {
        "id": "aCDtakEqmarD"
      }
    },
    {
      "cell_type": "code",
      "source": [
        "a=20\n",
        "b=10\n",
        "print(f\"Addition:{a+b}\")\n",
        "print(f\"Substraction:{a-b}\")\n",
        "print(f\"Multiplication:{a*b}\")\n",
        "print(f\"Division:{a/b}\")\n",
        "print(f\"Floor Division:{a//b}\")\n",
        "print(f\"Modulus:{a%b}\")\n",
        "print(f\"Exponent:{a**b}\")"
      ],
      "metadata": {
        "colab": {
          "base_uri": "https://localhost:8080/"
        },
        "id": "dJYdCQ1Amwe7",
        "outputId": "42583f92-be65-4e17-c9ae-cad331571506"
      },
      "execution_count": null,
      "outputs": [
        {
          "output_type": "stream",
          "name": "stdout",
          "text": [
            "Addition:30\n",
            "Substraction:10\n",
            "Multiplication:200\n",
            "Division:2.0\n",
            "Floor Division:2\n",
            "Modulus:0\n",
            "Exponent:10240000000000\n"
          ]
        }
      ]
    },
    {
      "cell_type": "markdown",
      "source": [
        "# ***Order of Operation(PEMDAS)***"
      ],
      "metadata": {
        "id": "Qyx04l3VokK8"
      }
    },
    {
      "cell_type": "markdown",
      "source": [
        "- P-Parenthesis\n",
        "- E-Exponents\n",
        "- M-Multiplication\n",
        "- D-Division\n",
        "- A-Addition\n",
        "- S-Substraction\n",
        "\n",
        "\n",
        "\n"
      ],
      "metadata": {
        "id": "O1N_n2vho7VL"
      }
    },
    {
      "cell_type": "code",
      "source": [
        "result=2+3*4**2-1\n",
        "print(f\"2+3*4**2-1={result}\")"
      ],
      "metadata": {
        "colab": {
          "base_uri": "https://localhost:8080/"
        },
        "id": "Qz9F3A_7pndU",
        "outputId": "4a3a61b0-f1b5-442a-cd00-4dce40896cba"
      },
      "execution_count": null,
      "outputs": [
        {
          "output_type": "stream",
          "name": "stdout",
          "text": [
            "2+3*4**2-1=49\n"
          ]
        }
      ]
    },
    {
      "cell_type": "markdown",
      "source": [
        "##Comparision Operator##"
      ],
      "metadata": {
        "id": "ZtRMRU01smC6"
      }
    },
    {
      "cell_type": "markdown",
      "source": [
        "###Integer Comparision###"
      ],
      "metadata": {
        "id": "JtWIvj5Wt3dU"
      }
    },
    {
      "cell_type": "code",
      "source": [
        "a=200\n",
        "b=100\n",
        "print(f\"LessThan:{a<b}\")\n",
        "print(f\"GreaterThan:{a>b}\")\n",
        "print(f\"LessThanEqual:{a<=b}\")\n",
        "print(f\"GreaterThanEqual:{a>=b}\")\n",
        "print(f\"Equal:{a==b}\")\n",
        "print(f\"NotEqual:{a!=b}\")"
      ],
      "metadata": {
        "colab": {
          "base_uri": "https://localhost:8080/"
        },
        "id": "Snsc1zdQst6L",
        "outputId": "e9c29d71-4700-475c-f925-1f15c8a88392"
      },
      "execution_count": null,
      "outputs": [
        {
          "output_type": "stream",
          "name": "stdout",
          "text": [
            "LessThan:False\n",
            "GreaterThan:True\n",
            "LessThanEqual:False\n",
            "GreaterThanEqual:True\n",
            "Equal:False\n",
            "NotEqual:True\n"
          ]
        }
      ]
    },
    {
      "cell_type": "markdown",
      "source": [
        "###String Comparision###"
      ],
      "metadata": {
        "id": "QoTpTrMqucmE"
      }
    },
    {
      "cell_type": "code",
      "source": [
        "n1=\"Ram\"\n",
        "n2=\"Ravi\"\n",
        "print(n1>n2)\n",
        "print(n1<n2)\n",
        "print(n1==n2)\n",
        "print(n1!=n2)\n",
        "print(n1<=n2)\n",
        "print(n1>=n2)"
      ],
      "metadata": {
        "colab": {
          "base_uri": "https://localhost:8080/"
        },
        "id": "4c5vG7l3t_BK",
        "outputId": "57cd78d9-4065-4d9e-f0e2-3af76bc39ae3"
      },
      "execution_count": null,
      "outputs": [
        {
          "output_type": "stream",
          "name": "stdout",
          "text": [
            "False\n",
            "True\n",
            "False\n",
            "True\n",
            "True\n",
            "False\n"
          ]
        }
      ]
    },
    {
      "cell_type": "markdown",
      "source": [
        "# ***Logical Operator***"
      ],
      "metadata": {
        "id": "6wSXOQKrvFMq"
      }
    },
    {
      "cell_type": "code",
      "source": [
        "p=True\n",
        "s=False\n",
        "print(f\"p and s:{p and s}\")\n",
        "print(f\"p or s:{p or s}\")\n",
        "print(f\"p not s:{not p}\")"
      ],
      "metadata": {
        "colab": {
          "base_uri": "https://localhost:8080/"
        },
        "id": "4Z_ixCaAu5_6",
        "outputId": "ece77e18-f473-47dc-b4bc-9110858fa0a0"
      },
      "execution_count": null,
      "outputs": [
        {
          "output_type": "stream",
          "name": "stdout",
          "text": [
            "p and s:False\n",
            "p or s:True\n",
            "p not s:False\n"
          ]
        }
      ]
    },
    {
      "cell_type": "code",
      "source": [
        "#Practical Example\n",
        "age=20\n",
        "has_license=True\n",
        "can_drive=age>=18 and has_license\n",
        "print(f\"can drive:{can_drive}\")\n"
      ],
      "metadata": {
        "colab": {
          "base_uri": "https://localhost:8080/"
        },
        "id": "uJ9FRu-ZxLYq",
        "outputId": "107fc7b5-ffc5-4b76-a66b-ab54e5fff55d"
      },
      "execution_count": null,
      "outputs": [
        {
          "output_type": "stream",
          "name": "stdout",
          "text": [
            "can drive:True\n"
          ]
        }
      ]
    },
    {
      "cell_type": "code",
      "source": [
        "#Multiple conditions\n",
        "score=85\n",
        "is_present=True\n",
        "has_passed=score>=90 and is_present\n",
        "print(f\"has passed:{has_passed}\")"
      ],
      "metadata": {
        "colab": {
          "base_uri": "https://localhost:8080/"
        },
        "id": "boBcCt9PxuvS",
        "outputId": "0759183d-cb4c-4a56-a209-fb591252c5f3"
      },
      "execution_count": null,
      "outputs": [
        {
          "output_type": "stream",
          "name": "stdout",
          "text": [
            "has passed:False\n"
          ]
        }
      ]
    },
    {
      "cell_type": "code",
      "source": [
        "#Personal Information\n",
        "age=18\n",
        "annual_income=50000\n",
        "credit_score=720\n",
        "has_colleteral= True\n"
      ],
      "metadata": {
        "id": "uktZCAXiy-ga"
      },
      "execution_count": null,
      "outputs": []
    },
    {
      "cell_type": "code",
      "source": [
        "#Loan criteria\n",
        "min_age=18\n",
        "min_annual_income=30000\n",
        "min_credit_score=650\n",
        "min_has_colleteral=True\n",
        "eligible=age>=min_age and annual_income>=min_annual_income and credit_score>=min_credit_score\n",
        "print(f\"eligibility:{eligible}\")"
      ],
      "metadata": {
        "colab": {
          "base_uri": "https://localhost:8080/"
        },
        "id": "fhoe0O-3zyrr",
        "outputId": "a9d8f6b7-4bd4-4dd7-b93a-49072a7b7f9f"
      },
      "execution_count": null,
      "outputs": [
        {
          "output_type": "stream",
          "name": "stdout",
          "text": [
            "eligibility:True\n"
          ]
        }
      ]
    },
    {
      "cell_type": "code",
      "source": [
        "#check Qualification\n",
        "age_qualified = age >= min_age\n",
        "income_qualified =annual_income >= min_annual_income\n",
        "credit_qualified = credit_score >= min_credit_score\n",
        "print(f\"age qualified:{age_qualified}\")\n",
        "print(f\"income qualified:{income_qualified}\")\n",
        "print(f\"credit qualified:{credit_qualified}\")"
      ],
      "metadata": {
        "colab": {
          "base_uri": "https://localhost:8080/"
        },
        "id": "PUlcr-AR36wK",
        "outputId": "c12349cc-4ffc-4826-c232-d298bdf0c90b"
      },
      "execution_count": null,
      "outputs": [
        {
          "output_type": "stream",
          "name": "stdout",
          "text": [
            "age qualified:True\n",
            "income qualified:True\n",
            "credit qualified:True\n"
          ]
        }
      ]
    },
    {
      "cell_type": "markdown",
      "source": [
        "# ***Data Strucutre***"
      ],
      "metadata": {
        "id": "jYeAQRkh_EYB"
      }
    },
    {
      "cell_type": "markdown",
      "source": [
        "##List##"
      ],
      "metadata": {
        "id": "mOgYOsc4_KuR"
      }
    },
    {
      "cell_type": "code",
      "source": [
        "#creating list\n",
        "Fruits=['Banana','Apple','Mango']\n",
        "Number=[10,20,30,40]\n",
        "Mixed_data=['sihi',51,'Ram',54.8]\n",
        "print(Fruits)\n",
        "print(Number)\n",
        "print(Mixed_data)\n",
        "\n",
        "#indexing\n",
        "print(\"fisrt fruit:\",Fruits[0])\n",
        "print(\"second number:\",Number[1])\n",
        "print(\"3rd mixed data is:\",Mixed_data[2])\n",
        "\n",
        "#list slicing\n",
        "print(f\"first 2 fruits:\",Fruits[0:2])\n",
        "print(f\"last 2 numbers:\",Number[1:3])\n",
        "print(f\"first 3 mixed data:\",Mixed_data[0:3])\n",
        "\n",
        "#list methods\n",
        "Fruits.append(\"orange\")\n",
        "Fruits.insert(1,\"kiwi\")\n",
        "print(\"Upadated Fruit list:\",Fruits)\n",
        "remove=Fruits.pop()\n",
        "print(\"Upadated Fruit list:\",Fruits)\n",
        "print(\"Removed:\",remove)\n",
        "\n",
        "#list operation\n",
        "print(f\"Length of Number:{len(Number)}\")\n",
        "print(f\"contains 'Mango':{'Mango' in Fruits}\")\n",
        "print(f\"Index of Banana:{Fruits.index('Banana')}\")"
      ],
      "metadata": {
        "colab": {
          "base_uri": "https://localhost:8080/"
        },
        "id": "yOpzGHaV-825",
        "outputId": "aa4ce094-8c27-4683-c174-7f6b01329987"
      },
      "execution_count": null,
      "outputs": [
        {
          "output_type": "stream",
          "name": "stdout",
          "text": [
            "['Banana', 'Apple', 'Mango']\n",
            "[10, 20, 30, 40]\n",
            "['sihi', 51, 'Ram', 54.8]\n",
            "fisrt fruit: Banana\n",
            "second number: 20\n",
            "3rd mixed data is: Ram\n",
            "first 2 fruits: ['Banana', 'Apple']\n",
            "last 2 numbers: [20, 30]\n",
            "first 3 mixed data: ['sihi', 51, 'Ram']\n",
            "Upadated Fruit list: ['Banana', 'kiwi', 'Apple', 'Mango', 'orange']\n",
            "Upadated Fruit list: ['Banana', 'kiwi', 'Apple', 'Mango']\n",
            "Removed: orange\n",
            "Length of Number:4\n",
            "contains 'Mango':True\n",
            "Index of Banana:0\n"
          ]
        }
      ]
    },
    {
      "cell_type": "markdown",
      "source": [
        "# ***Tuples***"
      ],
      "metadata": {
        "id": "4CTNUi8oD8p5"
      }
    },
    {
      "cell_type": "code",
      "source": [
        "#Tuple are inmutable\n",
        "coordinates=(10,20)\n",
        "rgb_color=(255,128,0)\n",
        "person_info=(\"pooja\",25,\"Engineer\",25,True)\n",
        "print(coordinates)\n",
        "print(rgb_color)\n",
        "print(person_info)\n",
        "\n",
        "#Tuple Unpacking\n",
        "x,y=coordinates\n",
        "print(f\"x:{x} y:{y}\")\n",
        "\n",
        "#Tuple Methods\n",
        "print(f\"Count of 25:{person_info.count(25)}\")\n",
        "print(f\"Index of pooja:{person_info.index('pooja')}\")"
      ],
      "metadata": {
        "colab": {
          "base_uri": "https://localhost:8080/"
        },
        "id": "fb5pfANuD_H3",
        "outputId": "b94f799b-4693-48ae-8c67-3a3008651c5a"
      },
      "execution_count": null,
      "outputs": [
        {
          "output_type": "stream",
          "name": "stdout",
          "text": [
            "(10, 20)\n",
            "(255, 128, 0)\n",
            "('pooja', 25, 'Engineer', 25, True)\n",
            "x:10 y:20\n",
            "Count of 25:2\n",
            "Index of pooja:0\n"
          ]
        }
      ]
    },
    {
      "cell_type": "markdown",
      "source": [
        "# ***Why use Tuples?***\n",
        "- Immutable(safe for dictionary keys)\n",
        "- Slightly faster than list\n",
        "- Good for fixed collections"
      ],
      "metadata": {
        "id": "7MnYpUWbGJ3B"
      }
    }
  ]
}